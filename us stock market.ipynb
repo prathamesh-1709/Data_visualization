{
 "cells": [
  {
   "cell_type": "code",
   "execution_count": 43,
   "id": "2f961a7e-7e08-4bbd-8744-e6fddaa7aff2",
   "metadata": {},
   "outputs": [],
   "source": [
    "import pandas as pd\n",
    "\n",
    "import seaborn as sns\n",
    "import warnings\n",
    "warnings.filterwarnings('ignore')\n"
   ]
  },
  {
   "cell_type": "code",
   "execution_count": 44,
   "id": "51a8bbf6-7914-4328-b408-7d787a933377",
   "metadata": {},
   "outputs": [],
   "source": [
    "df = pd.read_csv('Stock Market Dataset.csv')"
   ]
  },
  {
   "cell_type": "code",
   "execution_count": 45,
   "id": "9e4dec9a-da24-4dda-8bc3-7d28dddf8f49",
   "metadata": {},
   "outputs": [
    {
     "data": {
      "text/plain": [
       "Index(['INDEX', 'Date', 'Natural_Gas_Price', 'Natural_Gas_Vol.',\n",
       "       'Crude_oil_Price', 'Crude_oil_Vol.', 'Copper_Price', 'Copper_Vol.',\n",
       "       'Bitcoin_Price', 'Bitcoin_Vol.', 'Platinum_Price', 'Platinum_Vol.',\n",
       "       'Ethereum_Price', 'Ethereum_Vol.', 'S&P_500_Price', 'Nasdaq_100_Price',\n",
       "       'Nasdaq_100_Vol.', 'Apple_Price', 'Apple_Vol.', 'Tesla_Price',\n",
       "       'Tesla_Vol.', 'Microsoft_Price', 'Microsoft_Vol.', 'Silver_Price',\n",
       "       'Silver_Vol.', 'Google_Price', 'Google_Vol.', 'Nvidia_Price',\n",
       "       'Nvidia_Vol.', 'Berkshire_Price', 'Berkshire_Vol.', 'Netflix_Price',\n",
       "       'Netflix_Vol.', 'Amazon_Price', 'Amazon_Vol.', 'Meta_Price',\n",
       "       'Meta_Vol.', 'Gold_Price', 'Gold_Vol.'],\n",
       "      dtype='object')"
      ]
     },
     "execution_count": 45,
     "metadata": {},
     "output_type": "execute_result"
    }
   ],
   "source": [
    "df.columns"
   ]
  },
  {
   "cell_type": "code",
   "execution_count": 46,
   "id": "41c9715b-2ffa-48d8-9149-bda5ab9acec9",
   "metadata": {},
   "outputs": [
    {
     "data": {
      "text/plain": [
       "INDEX                  0\n",
       "Date                   0\n",
       "Natural_Gas_Price      0\n",
       "Natural_Gas_Vol.       4\n",
       "Crude_oil_Price        0\n",
       "Crude_oil_Vol.        23\n",
       "Copper_Price           0\n",
       "Copper_Vol.           37\n",
       "Bitcoin_Price          0\n",
       "Bitcoin_Vol.           0\n",
       "Platinum_Price         0\n",
       "Platinum_Vol.        607\n",
       "Ethereum_Price         0\n",
       "Ethereum_Vol.          0\n",
       "S&P_500_Price          0\n",
       "Nasdaq_100_Price       0\n",
       "Nasdaq_100_Vol.        1\n",
       "Apple_Price            0\n",
       "Apple_Vol.             0\n",
       "Tesla_Price            0\n",
       "Tesla_Vol.             0\n",
       "Microsoft_Price        0\n",
       "Microsoft_Vol.         0\n",
       "Silver_Price           0\n",
       "Silver_Vol.           47\n",
       "Google_Price           0\n",
       "Google_Vol.            0\n",
       "Nvidia_Price           0\n",
       "Nvidia_Vol.            0\n",
       "Berkshire_Price        0\n",
       "Berkshire_Vol.         0\n",
       "Netflix_Price          0\n",
       "Netflix_Vol.           0\n",
       "Amazon_Price           0\n",
       "Amazon_Vol.            0\n",
       "Meta_Price             0\n",
       "Meta_Vol.              0\n",
       "Gold_Price             0\n",
       "Gold_Vol.              2\n",
       "dtype: int64"
      ]
     },
     "execution_count": 46,
     "metadata": {},
     "output_type": "execute_result"
    }
   ],
   "source": [
    "df.isna().sum()\n"
   ]
  },
  {
   "cell_type": "code",
   "execution_count": 47,
   "id": "3b14222c-93dc-453b-8488-fb3b11a32f60",
   "metadata": {},
   "outputs": [
    {
     "data": {
      "text/html": [
       "<div>\n",
       "<style scoped>\n",
       "    .dataframe tbody tr th:only-of-type {\n",
       "        vertical-align: middle;\n",
       "    }\n",
       "\n",
       "    .dataframe tbody tr th {\n",
       "        vertical-align: top;\n",
       "    }\n",
       "\n",
       "    .dataframe thead th {\n",
       "        text-align: right;\n",
       "    }\n",
       "</style>\n",
       "<table border=\"1\" class=\"dataframe\">\n",
       "  <thead>\n",
       "    <tr style=\"text-align: right;\">\n",
       "      <th></th>\n",
       "      <th>count</th>\n",
       "      <th>mean</th>\n",
       "      <th>std</th>\n",
       "      <th>min</th>\n",
       "      <th>25%</th>\n",
       "      <th>50%</th>\n",
       "      <th>75%</th>\n",
       "      <th>max</th>\n",
       "    </tr>\n",
       "  </thead>\n",
       "  <tbody>\n",
       "    <tr>\n",
       "      <th>INDEX</th>\n",
       "      <td>1243.0</td>\n",
       "      <td>6.210000e+02</td>\n",
       "      <td>3.589675e+02</td>\n",
       "      <td>0.000000e+00</td>\n",
       "      <td>3.105000e+02</td>\n",
       "      <td>6.210000e+02</td>\n",
       "      <td>9.315000e+02</td>\n",
       "      <td>1.242000e+03</td>\n",
       "    </tr>\n",
       "    <tr>\n",
       "      <th>Natural_Gas_Price</th>\n",
       "      <td>1243.0</td>\n",
       "      <td>3.494714e+00</td>\n",
       "      <td>1.822540e+00</td>\n",
       "      <td>1.482000e+00</td>\n",
       "      <td>2.347500e+00</td>\n",
       "      <td>2.702000e+00</td>\n",
       "      <td>4.055500e+00</td>\n",
       "      <td>9.647000e+00</td>\n",
       "    </tr>\n",
       "    <tr>\n",
       "      <th>Natural_Gas_Vol.</th>\n",
       "      <td>1239.0</td>\n",
       "      <td>1.316241e+05</td>\n",
       "      <td>6.438514e+04</td>\n",
       "      <td>1.200000e+03</td>\n",
       "      <td>9.190000e+04</td>\n",
       "      <td>1.273700e+05</td>\n",
       "      <td>1.694600e+05</td>\n",
       "      <td>3.819700e+05</td>\n",
       "    </tr>\n",
       "    <tr>\n",
       "      <th>Crude_oil_Price</th>\n",
       "      <td>1243.0</td>\n",
       "      <td>6.757706e+01</td>\n",
       "      <td>2.046550e+01</td>\n",
       "      <td>-3.763000e+01</td>\n",
       "      <td>5.509500e+01</td>\n",
       "      <td>6.923000e+01</td>\n",
       "      <td>8.045500e+01</td>\n",
       "      <td>1.237000e+02</td>\n",
       "    </tr>\n",
       "    <tr>\n",
       "      <th>Crude_oil_Vol.</th>\n",
       "      <td>1220.0</td>\n",
       "      <td>3.989038e+05</td>\n",
       "      <td>2.161619e+05</td>\n",
       "      <td>1.702000e+04</td>\n",
       "      <td>2.835975e+05</td>\n",
       "      <td>3.668850e+05</td>\n",
       "      <td>5.072425e+05</td>\n",
       "      <td>1.770000e+06</td>\n",
       "    </tr>\n",
       "    <tr>\n",
       "      <th>Copper_Price</th>\n",
       "      <td>1243.0</td>\n",
       "      <td>3.541957e+00</td>\n",
       "      <td>7.028187e-01</td>\n",
       "      <td>2.100500e+00</td>\n",
       "      <td>2.858750e+00</td>\n",
       "      <td>3.666000e+00</td>\n",
       "      <td>4.137250e+00</td>\n",
       "      <td>4.937500e+00</td>\n",
       "    </tr>\n",
       "    <tr>\n",
       "      <th>Copper_Vol.</th>\n",
       "      <td>1206.0</td>\n",
       "      <td>3.540662e+04</td>\n",
       "      <td>3.841545e+04</td>\n",
       "      <td>1.000000e+01</td>\n",
       "      <td>3.700000e+02</td>\n",
       "      <td>1.018000e+04</td>\n",
       "      <td>6.834000e+04</td>\n",
       "      <td>1.760400e+05</td>\n",
       "    </tr>\n",
       "    <tr>\n",
       "      <th>Bitcoin_Vol.</th>\n",
       "      <td>1243.0</td>\n",
       "      <td>4.033918e+07</td>\n",
       "      <td>2.940889e+08</td>\n",
       "      <td>2.600000e+02</td>\n",
       "      <td>7.907500e+04</td>\n",
       "      <td>2.153100e+05</td>\n",
       "      <td>6.151050e+05</td>\n",
       "      <td>4.470000e+09</td>\n",
       "    </tr>\n",
       "    <tr>\n",
       "      <th>Platinum_Vol.</th>\n",
       "      <td>636.0</td>\n",
       "      <td>9.082516e+03</td>\n",
       "      <td>8.876539e+03</td>\n",
       "      <td>0.000000e+00</td>\n",
       "      <td>1.120000e+03</td>\n",
       "      <td>6.070000e+03</td>\n",
       "      <td>1.528750e+04</td>\n",
       "      <td>4.283000e+04</td>\n",
       "    </tr>\n",
       "    <tr>\n",
       "      <th>Ethereum_Vol.</th>\n",
       "      <td>1243.0</td>\n",
       "      <td>1.801563e+07</td>\n",
       "      <td>1.326933e+08</td>\n",
       "      <td>7.518000e+04</td>\n",
       "      <td>5.883600e+05</td>\n",
       "      <td>1.570000e+06</td>\n",
       "      <td>9.365000e+06</td>\n",
       "      <td>1.790000e+09</td>\n",
       "    </tr>\n",
       "    <tr>\n",
       "      <th>Nasdaq_100_Vol.</th>\n",
       "      <td>1242.0</td>\n",
       "      <td>2.238827e+08</td>\n",
       "      <td>8.246992e+07</td>\n",
       "      <td>5.047000e+07</td>\n",
       "      <td>1.715275e+08</td>\n",
       "      <td>2.116200e+08</td>\n",
       "      <td>2.559850e+08</td>\n",
       "      <td>9.825600e+08</td>\n",
       "    </tr>\n",
       "    <tr>\n",
       "      <th>Apple_Price</th>\n",
       "      <td>1243.0</td>\n",
       "      <td>1.255665e+02</td>\n",
       "      <td>4.611412e+01</td>\n",
       "      <td>4.236000e+01</td>\n",
       "      <td>7.950500e+01</td>\n",
       "      <td>1.367600e+02</td>\n",
       "      <td>1.629150e+02</td>\n",
       "      <td>1.981100e+02</td>\n",
       "    </tr>\n",
       "    <tr>\n",
       "      <th>Apple_Vol.</th>\n",
       "      <td>1243.0</td>\n",
       "      <td>9.981845e+07</td>\n",
       "      <td>5.208192e+07</td>\n",
       "      <td>2.404000e+07</td>\n",
       "      <td>6.599000e+07</td>\n",
       "      <td>8.749000e+07</td>\n",
       "      <td>1.170750e+08</td>\n",
       "      <td>4.268800e+08</td>\n",
       "    </tr>\n",
       "    <tr>\n",
       "      <th>Tesla_Price</th>\n",
       "      <td>1243.0</td>\n",
       "      <td>1.735904e+02</td>\n",
       "      <td>1.066881e+02</td>\n",
       "      <td>1.193000e+01</td>\n",
       "      <td>5.333500e+01</td>\n",
       "      <td>2.020700e+02</td>\n",
       "      <td>2.514700e+02</td>\n",
       "      <td>4.099700e+02</td>\n",
       "    </tr>\n",
       "    <tr>\n",
       "      <th>Tesla_Vol.</th>\n",
       "      <td>1243.0</td>\n",
       "      <td>1.341790e+08</td>\n",
       "      <td>8.509129e+07</td>\n",
       "      <td>2.940000e+07</td>\n",
       "      <td>8.136000e+07</td>\n",
       "      <td>1.095200e+08</td>\n",
       "      <td>1.578300e+08</td>\n",
       "      <td>9.140800e+08</td>\n",
       "    </tr>\n",
       "    <tr>\n",
       "      <th>Microsoft_Price</th>\n",
       "      <td>1243.0</td>\n",
       "      <td>2.412401e+02</td>\n",
       "      <td>7.342984e+01</td>\n",
       "      <td>1.052500e+02</td>\n",
       "      <td>1.825250e+02</td>\n",
       "      <td>2.453800e+02</td>\n",
       "      <td>2.971200e+02</td>\n",
       "      <td>4.112200e+02</td>\n",
       "    </tr>\n",
       "    <tr>\n",
       "      <th>Microsoft_Vol.</th>\n",
       "      <td>1243.0</td>\n",
       "      <td>2.920801e+07</td>\n",
       "      <td>1.236710e+07</td>\n",
       "      <td>8.990000e+06</td>\n",
       "      <td>2.153500e+07</td>\n",
       "      <td>2.610000e+07</td>\n",
       "      <td>3.317500e+07</td>\n",
       "      <td>9.707000e+07</td>\n",
       "    </tr>\n",
       "    <tr>\n",
       "      <th>Silver_Price</th>\n",
       "      <td>1243.0</td>\n",
       "      <td>2.158898e+01</td>\n",
       "      <td>3.859288e+00</td>\n",
       "      <td>1.177200e+01</td>\n",
       "      <td>1.799850e+01</td>\n",
       "      <td>2.275800e+01</td>\n",
       "      <td>2.451200e+01</td>\n",
       "      <td>2.941800e+01</td>\n",
       "    </tr>\n",
       "    <tr>\n",
       "      <th>Silver_Vol.</th>\n",
       "      <td>1196.0</td>\n",
       "      <td>6.769542e+04</td>\n",
       "      <td>3.807885e+04</td>\n",
       "      <td>0.000000e+00</td>\n",
       "      <td>4.815000e+04</td>\n",
       "      <td>6.294000e+04</td>\n",
       "      <td>7.910000e+04</td>\n",
       "      <td>3.552800e+05</td>\n",
       "    </tr>\n",
       "    <tr>\n",
       "      <th>Google_Price</th>\n",
       "      <td>1243.0</td>\n",
       "      <td>9.967083e+01</td>\n",
       "      <td>2.976689e+01</td>\n",
       "      <td>5.194000e+01</td>\n",
       "      <td>7.118500e+01</td>\n",
       "      <td>1.012400e+02</td>\n",
       "      <td>1.272050e+02</td>\n",
       "      <td>1.535100e+02</td>\n",
       "    </tr>\n",
       "    <tr>\n",
       "      <th>Google_Vol.</th>\n",
       "      <td>1243.0</td>\n",
       "      <td>3.351599e+07</td>\n",
       "      <td>1.507215e+07</td>\n",
       "      <td>9.310000e+06</td>\n",
       "      <td>2.410500e+07</td>\n",
       "      <td>2.973000e+07</td>\n",
       "      <td>3.735500e+07</td>\n",
       "      <td>1.331800e+08</td>\n",
       "    </tr>\n",
       "    <tr>\n",
       "      <th>Nvidia_Price</th>\n",
       "      <td>1243.0</td>\n",
       "      <td>1.872858e+02</td>\n",
       "      <td>1.346799e+02</td>\n",
       "      <td>3.345000e+01</td>\n",
       "      <td>7.390500e+01</td>\n",
       "      <td>1.515900e+02</td>\n",
       "      <td>2.421400e+02</td>\n",
       "      <td>6.616000e+02</td>\n",
       "    </tr>\n",
       "    <tr>\n",
       "      <th>Nvidia_Vol.</th>\n",
       "      <td>1243.0</td>\n",
       "      <td>4.560298e+07</td>\n",
       "      <td>1.869107e+07</td>\n",
       "      <td>9.790000e+06</td>\n",
       "      <td>3.245000e+07</td>\n",
       "      <td>4.279000e+07</td>\n",
       "      <td>5.511500e+07</td>\n",
       "      <td>1.534600e+08</td>\n",
       "    </tr>\n",
       "    <tr>\n",
       "      <th>Berkshire_Vol.</th>\n",
       "      <td>1243.0</td>\n",
       "      <td>2.426525e+03</td>\n",
       "      <td>2.660498e+03</td>\n",
       "      <td>8.000000e+01</td>\n",
       "      <td>3.450000e+02</td>\n",
       "      <td>1.510000e+03</td>\n",
       "      <td>3.225000e+03</td>\n",
       "      <td>1.385000e+04</td>\n",
       "    </tr>\n",
       "    <tr>\n",
       "      <th>Netflix_Price</th>\n",
       "      <td>1243.0</td>\n",
       "      <td>4.048395e+02</td>\n",
       "      <td>1.149895e+02</td>\n",
       "      <td>1.663700e+02</td>\n",
       "      <td>3.230100e+02</td>\n",
       "      <td>3.841500e+02</td>\n",
       "      <td>4.953650e+02</td>\n",
       "      <td>6.916900e+02</td>\n",
       "    </tr>\n",
       "    <tr>\n",
       "      <th>Netflix_Vol.</th>\n",
       "      <td>1243.0</td>\n",
       "      <td>7.057401e+06</td>\n",
       "      <td>6.384187e+06</td>\n",
       "      <td>1.140000e+06</td>\n",
       "      <td>3.990000e+06</td>\n",
       "      <td>5.610000e+06</td>\n",
       "      <td>7.910000e+06</td>\n",
       "      <td>1.333900e+08</td>\n",
       "    </tr>\n",
       "    <tr>\n",
       "      <th>Amazon_Price</th>\n",
       "      <td>1243.0</td>\n",
       "      <td>1.286832e+02</td>\n",
       "      <td>3.080863e+01</td>\n",
       "      <td>7.941000e+01</td>\n",
       "      <td>9.626000e+01</td>\n",
       "      <td>1.287300e+02</td>\n",
       "      <td>1.581100e+02</td>\n",
       "      <td>1.865700e+02</td>\n",
       "    </tr>\n",
       "    <tr>\n",
       "      <th>Amazon_Vol.</th>\n",
       "      <td>1243.0</td>\n",
       "      <td>7.413005e+07</td>\n",
       "      <td>3.245753e+07</td>\n",
       "      <td>1.763000e+07</td>\n",
       "      <td>5.264500e+07</td>\n",
       "      <td>6.520000e+07</td>\n",
       "      <td>8.674500e+07</td>\n",
       "      <td>3.113500e+08</td>\n",
       "    </tr>\n",
       "    <tr>\n",
       "      <th>Meta_Price</th>\n",
       "      <td>1243.0</td>\n",
       "      <td>2.397281e+02</td>\n",
       "      <td>7.101543e+01</td>\n",
       "      <td>8.891000e+01</td>\n",
       "      <td>1.833550e+02</td>\n",
       "      <td>2.244300e+02</td>\n",
       "      <td>3.016500e+02</td>\n",
       "      <td>4.749900e+02</td>\n",
       "    </tr>\n",
       "    <tr>\n",
       "      <th>Meta_Vol.</th>\n",
       "      <td>1243.0</td>\n",
       "      <td>2.325851e+07</td>\n",
       "      <td>1.555486e+07</td>\n",
       "      <td>5.470000e+06</td>\n",
       "      <td>1.478500e+07</td>\n",
       "      <td>1.934000e+07</td>\n",
       "      <td>2.711500e+07</td>\n",
       "      <td>2.304100e+08</td>\n",
       "    </tr>\n",
       "    <tr>\n",
       "      <th>Gold_Vol.</th>\n",
       "      <td>1241.0</td>\n",
       "      <td>2.111277e+05</td>\n",
       "      <td>1.150064e+05</td>\n",
       "      <td>0.000000e+00</td>\n",
       "      <td>1.522000e+05</td>\n",
       "      <td>1.979700e+05</td>\n",
       "      <td>2.579200e+05</td>\n",
       "      <td>8.134100e+05</td>\n",
       "    </tr>\n",
       "  </tbody>\n",
       "</table>\n",
       "</div>"
      ],
      "text/plain": [
       "                    count          mean           std           min  \\\n",
       "INDEX              1243.0  6.210000e+02  3.589675e+02  0.000000e+00   \n",
       "Natural_Gas_Price  1243.0  3.494714e+00  1.822540e+00  1.482000e+00   \n",
       "Natural_Gas_Vol.   1239.0  1.316241e+05  6.438514e+04  1.200000e+03   \n",
       "Crude_oil_Price    1243.0  6.757706e+01  2.046550e+01 -3.763000e+01   \n",
       "Crude_oil_Vol.     1220.0  3.989038e+05  2.161619e+05  1.702000e+04   \n",
       "Copper_Price       1243.0  3.541957e+00  7.028187e-01  2.100500e+00   \n",
       "Copper_Vol.        1206.0  3.540662e+04  3.841545e+04  1.000000e+01   \n",
       "Bitcoin_Vol.       1243.0  4.033918e+07  2.940889e+08  2.600000e+02   \n",
       "Platinum_Vol.       636.0  9.082516e+03  8.876539e+03  0.000000e+00   \n",
       "Ethereum_Vol.      1243.0  1.801563e+07  1.326933e+08  7.518000e+04   \n",
       "Nasdaq_100_Vol.    1242.0  2.238827e+08  8.246992e+07  5.047000e+07   \n",
       "Apple_Price        1243.0  1.255665e+02  4.611412e+01  4.236000e+01   \n",
       "Apple_Vol.         1243.0  9.981845e+07  5.208192e+07  2.404000e+07   \n",
       "Tesla_Price        1243.0  1.735904e+02  1.066881e+02  1.193000e+01   \n",
       "Tesla_Vol.         1243.0  1.341790e+08  8.509129e+07  2.940000e+07   \n",
       "Microsoft_Price    1243.0  2.412401e+02  7.342984e+01  1.052500e+02   \n",
       "Microsoft_Vol.     1243.0  2.920801e+07  1.236710e+07  8.990000e+06   \n",
       "Silver_Price       1243.0  2.158898e+01  3.859288e+00  1.177200e+01   \n",
       "Silver_Vol.        1196.0  6.769542e+04  3.807885e+04  0.000000e+00   \n",
       "Google_Price       1243.0  9.967083e+01  2.976689e+01  5.194000e+01   \n",
       "Google_Vol.        1243.0  3.351599e+07  1.507215e+07  9.310000e+06   \n",
       "Nvidia_Price       1243.0  1.872858e+02  1.346799e+02  3.345000e+01   \n",
       "Nvidia_Vol.        1243.0  4.560298e+07  1.869107e+07  9.790000e+06   \n",
       "Berkshire_Vol.     1243.0  2.426525e+03  2.660498e+03  8.000000e+01   \n",
       "Netflix_Price      1243.0  4.048395e+02  1.149895e+02  1.663700e+02   \n",
       "Netflix_Vol.       1243.0  7.057401e+06  6.384187e+06  1.140000e+06   \n",
       "Amazon_Price       1243.0  1.286832e+02  3.080863e+01  7.941000e+01   \n",
       "Amazon_Vol.        1243.0  7.413005e+07  3.245753e+07  1.763000e+07   \n",
       "Meta_Price         1243.0  2.397281e+02  7.101543e+01  8.891000e+01   \n",
       "Meta_Vol.          1243.0  2.325851e+07  1.555486e+07  5.470000e+06   \n",
       "Gold_Vol.          1241.0  2.111277e+05  1.150064e+05  0.000000e+00   \n",
       "\n",
       "                            25%           50%           75%           max  \n",
       "INDEX              3.105000e+02  6.210000e+02  9.315000e+02  1.242000e+03  \n",
       "Natural_Gas_Price  2.347500e+00  2.702000e+00  4.055500e+00  9.647000e+00  \n",
       "Natural_Gas_Vol.   9.190000e+04  1.273700e+05  1.694600e+05  3.819700e+05  \n",
       "Crude_oil_Price    5.509500e+01  6.923000e+01  8.045500e+01  1.237000e+02  \n",
       "Crude_oil_Vol.     2.835975e+05  3.668850e+05  5.072425e+05  1.770000e+06  \n",
       "Copper_Price       2.858750e+00  3.666000e+00  4.137250e+00  4.937500e+00  \n",
       "Copper_Vol.        3.700000e+02  1.018000e+04  6.834000e+04  1.760400e+05  \n",
       "Bitcoin_Vol.       7.907500e+04  2.153100e+05  6.151050e+05  4.470000e+09  \n",
       "Platinum_Vol.      1.120000e+03  6.070000e+03  1.528750e+04  4.283000e+04  \n",
       "Ethereum_Vol.      5.883600e+05  1.570000e+06  9.365000e+06  1.790000e+09  \n",
       "Nasdaq_100_Vol.    1.715275e+08  2.116200e+08  2.559850e+08  9.825600e+08  \n",
       "Apple_Price        7.950500e+01  1.367600e+02  1.629150e+02  1.981100e+02  \n",
       "Apple_Vol.         6.599000e+07  8.749000e+07  1.170750e+08  4.268800e+08  \n",
       "Tesla_Price        5.333500e+01  2.020700e+02  2.514700e+02  4.099700e+02  \n",
       "Tesla_Vol.         8.136000e+07  1.095200e+08  1.578300e+08  9.140800e+08  \n",
       "Microsoft_Price    1.825250e+02  2.453800e+02  2.971200e+02  4.112200e+02  \n",
       "Microsoft_Vol.     2.153500e+07  2.610000e+07  3.317500e+07  9.707000e+07  \n",
       "Silver_Price       1.799850e+01  2.275800e+01  2.451200e+01  2.941800e+01  \n",
       "Silver_Vol.        4.815000e+04  6.294000e+04  7.910000e+04  3.552800e+05  \n",
       "Google_Price       7.118500e+01  1.012400e+02  1.272050e+02  1.535100e+02  \n",
       "Google_Vol.        2.410500e+07  2.973000e+07  3.735500e+07  1.331800e+08  \n",
       "Nvidia_Price       7.390500e+01  1.515900e+02  2.421400e+02  6.616000e+02  \n",
       "Nvidia_Vol.        3.245000e+07  4.279000e+07  5.511500e+07  1.534600e+08  \n",
       "Berkshire_Vol.     3.450000e+02  1.510000e+03  3.225000e+03  1.385000e+04  \n",
       "Netflix_Price      3.230100e+02  3.841500e+02  4.953650e+02  6.916900e+02  \n",
       "Netflix_Vol.       3.990000e+06  5.610000e+06  7.910000e+06  1.333900e+08  \n",
       "Amazon_Price       9.626000e+01  1.287300e+02  1.581100e+02  1.865700e+02  \n",
       "Amazon_Vol.        5.264500e+07  6.520000e+07  8.674500e+07  3.113500e+08  \n",
       "Meta_Price         1.833550e+02  2.244300e+02  3.016500e+02  4.749900e+02  \n",
       "Meta_Vol.          1.478500e+07  1.934000e+07  2.711500e+07  2.304100e+08  \n",
       "Gold_Vol.          1.522000e+05  1.979700e+05  2.579200e+05  8.134100e+05  "
      ]
     },
     "execution_count": 47,
     "metadata": {},
     "output_type": "execute_result"
    }
   ],
   "source": [
    "df.describe().T"
   ]
  },
  {
   "cell_type": "code",
   "execution_count": 48,
   "id": "85b71466-84c3-4c51-9d56-5255c7b79b76",
   "metadata": {},
   "outputs": [
    {
     "data": {
      "text/plain": [
       "<bound method NDFrame.head of       INDEX        Date  Natural_Gas_Price  Natural_Gas_Vol.  Crude_oil_Price  \\\n",
       "0         0  02-02-2024              2.079               NaN            72.28   \n",
       "1         1  01-02-2024              2.050          161340.0            73.82   \n",
       "2         2  31-01-2024              2.100          142860.0            75.85   \n",
       "3         3  30-01-2024              2.077          139750.0            77.82   \n",
       "4         4  29-01-2024              2.490            3590.0            76.78   \n",
       "...     ...         ...                ...               ...              ...   \n",
       "1238   1238  08-02-2019              2.583          147880.0            52.72   \n",
       "1239   1239  07-02-2019              2.551          211790.0            52.64   \n",
       "1240   1240  06-02-2019              2.662           98330.0            54.01   \n",
       "1241   1241  05-02-2019              2.662           82250.0            53.66   \n",
       "1242   1242  04-02-2019              2.660          116490.0            54.56   \n",
       "\n",
       "      Crude_oil_Vol.  Copper_Price  Copper_Vol. Bitcoin_Price  Bitcoin_Vol.  \\\n",
       "0                NaN        3.8215          NaN     43,194.70         42650   \n",
       "1           577940.0        3.8535          NaN     43,081.40         47690   \n",
       "2           344490.0        3.9060          NaN     42,580.50         56480   \n",
       "3           347240.0        3.9110          NaN     42,946.20         55130   \n",
       "4           331930.0        3.8790          NaN     43,299.80         45230   \n",
       "...              ...           ...          ...           ...           ...   \n",
       "1238        621000.0        2.8140        270.0      3,661.70        699230   \n",
       "1239        749010.0        2.8320        320.0      3,397.70        471360   \n",
       "1240        606720.0        2.8400        100.0      3,404.30        514210   \n",
       "1241        609760.0        2.8205         90.0      3,468.40        460950   \n",
       "1242        622470.0        2.7975        490.0      3,462.80        503920   \n",
       "\n",
       "      ... Berkshire_Price  Berkshire_Vol. Netflix_Price  Netflix_Vol.  \\\n",
       "0     ...        5,89,498           10580        564.64       4030000   \n",
       "1     ...        5,81,600            9780        567.51       3150000   \n",
       "2     ...        5,78,020            9720        564.11       4830000   \n",
       "3     ...        5,84,680            9750        562.85       6120000   \n",
       "4     ...        5,78,800           13850        575.79       6880000   \n",
       "...   ...             ...             ...           ...           ...   \n",
       "1238  ...        3,00,771             240        347.57       7560000   \n",
       "1239  ...        3,02,813             240        344.71       7860000   \n",
       "1240  ...        3,08,810             120        352.19       6720000   \n",
       "1241  ...        3,10,700             360        355.81       9050000   \n",
       "1242  ...        3,12,000             310        351.34       9050000   \n",
       "\n",
       "     Amazon_Price Amazon_Vol.  Meta_Price  Meta_Vol.  Gold_Price  Gold_Vol.  \n",
       "0          171.81   117220000      474.99   84710000    2,053.70        NaN  \n",
       "1          159.28    66360000      394.78   25140000    2,071.10   260920.0  \n",
       "2          155.20    49690000      390.14   20010000    2,067.40   238370.0  \n",
       "3          159.00    42290000      400.06   18610000    2,050.90   214590.0  \n",
       "4          161.26    42840000      401.02   17790000    2,034.90     1780.0  \n",
       "...           ...         ...         ...        ...         ...        ...  \n",
       "1238        79.41   113150000      167.33   12560000    1,318.50   150610.0  \n",
       "1239        80.72    92530000      166.38   17520000    1,314.20   166760.0  \n",
       "1240        82.01    78800000      170.49   13280000    1,314.40   137250.0  \n",
       "1241        82.94    89060000      171.16   22560000    1,319.20   129010.0  \n",
       "1242        81.67    98580000      169.25   20040000    1,319.30   159560.0  \n",
       "\n",
       "[1243 rows x 39 columns]>"
      ]
     },
     "execution_count": 48,
     "metadata": {},
     "output_type": "execute_result"
    }
   ],
   "source": [
    "df.head"
   ]
  },
  {
   "cell_type": "code",
   "execution_count": 49,
   "id": "f16f1095-4b2d-49e7-a7be-8c9a400d9704",
   "metadata": {},
   "outputs": [],
   "source": [
    "df.dropna(axis=1,how=\"all\",inplace = True)"
   ]
  },
  {
   "cell_type": "code",
   "execution_count": 50,
   "id": "f84376ad-ccd2-44c0-8fa7-28716254d626",
   "metadata": {},
   "outputs": [
    {
     "data": {
      "text/plain": [
       "<bound method NDFrame.head of       INDEX        Date  Natural_Gas_Price  Natural_Gas_Vol.  Crude_oil_Price  \\\n",
       "0         0  02-02-2024              2.079               NaN            72.28   \n",
       "1         1  01-02-2024              2.050          161340.0            73.82   \n",
       "2         2  31-01-2024              2.100          142860.0            75.85   \n",
       "3         3  30-01-2024              2.077          139750.0            77.82   \n",
       "4         4  29-01-2024              2.490            3590.0            76.78   \n",
       "...     ...         ...                ...               ...              ...   \n",
       "1238   1238  08-02-2019              2.583          147880.0            52.72   \n",
       "1239   1239  07-02-2019              2.551          211790.0            52.64   \n",
       "1240   1240  06-02-2019              2.662           98330.0            54.01   \n",
       "1241   1241  05-02-2019              2.662           82250.0            53.66   \n",
       "1242   1242  04-02-2019              2.660          116490.0            54.56   \n",
       "\n",
       "      Crude_oil_Vol.  Copper_Price  Copper_Vol. Bitcoin_Price  Bitcoin_Vol.  \\\n",
       "0                NaN        3.8215          NaN     43,194.70         42650   \n",
       "1           577940.0        3.8535          NaN     43,081.40         47690   \n",
       "2           344490.0        3.9060          NaN     42,580.50         56480   \n",
       "3           347240.0        3.9110          NaN     42,946.20         55130   \n",
       "4           331930.0        3.8790          NaN     43,299.80         45230   \n",
       "...              ...           ...          ...           ...           ...   \n",
       "1238        621000.0        2.8140        270.0      3,661.70        699230   \n",
       "1239        749010.0        2.8320        320.0      3,397.70        471360   \n",
       "1240        606720.0        2.8400        100.0      3,404.30        514210   \n",
       "1241        609760.0        2.8205         90.0      3,468.40        460950   \n",
       "1242        622470.0        2.7975        490.0      3,462.80        503920   \n",
       "\n",
       "      ... Berkshire_Price  Berkshire_Vol. Netflix_Price  Netflix_Vol.  \\\n",
       "0     ...        5,89,498           10580        564.64       4030000   \n",
       "1     ...        5,81,600            9780        567.51       3150000   \n",
       "2     ...        5,78,020            9720        564.11       4830000   \n",
       "3     ...        5,84,680            9750        562.85       6120000   \n",
       "4     ...        5,78,800           13850        575.79       6880000   \n",
       "...   ...             ...             ...           ...           ...   \n",
       "1238  ...        3,00,771             240        347.57       7560000   \n",
       "1239  ...        3,02,813             240        344.71       7860000   \n",
       "1240  ...        3,08,810             120        352.19       6720000   \n",
       "1241  ...        3,10,700             360        355.81       9050000   \n",
       "1242  ...        3,12,000             310        351.34       9050000   \n",
       "\n",
       "     Amazon_Price Amazon_Vol.  Meta_Price  Meta_Vol.  Gold_Price  Gold_Vol.  \n",
       "0          171.81   117220000      474.99   84710000    2,053.70        NaN  \n",
       "1          159.28    66360000      394.78   25140000    2,071.10   260920.0  \n",
       "2          155.20    49690000      390.14   20010000    2,067.40   238370.0  \n",
       "3          159.00    42290000      400.06   18610000    2,050.90   214590.0  \n",
       "4          161.26    42840000      401.02   17790000    2,034.90     1780.0  \n",
       "...           ...         ...         ...        ...         ...        ...  \n",
       "1238        79.41   113150000      167.33   12560000    1,318.50   150610.0  \n",
       "1239        80.72    92530000      166.38   17520000    1,314.20   166760.0  \n",
       "1240        82.01    78800000      170.49   13280000    1,314.40   137250.0  \n",
       "1241        82.94    89060000      171.16   22560000    1,319.20   129010.0  \n",
       "1242        81.67    98580000      169.25   20040000    1,319.30   159560.0  \n",
       "\n",
       "[1243 rows x 39 columns]>"
      ]
     },
     "execution_count": 50,
     "metadata": {},
     "output_type": "execute_result"
    }
   ],
   "source": [
    "df.head\n"
   ]
  },
  {
   "cell_type": "code",
   "execution_count": 51,
   "id": "71a159a8-aa59-4450-b9dc-d0b840dfafc2",
   "metadata": {},
   "outputs": [
    {
     "data": {
      "text/plain": [
       "(1243, 39)"
      ]
     },
     "execution_count": 51,
     "metadata": {},
     "output_type": "execute_result"
    }
   ],
   "source": [
    "df.shape"
   ]
  },
  {
   "cell_type": "code",
   "execution_count": 52,
   "id": "5562bf5c-ac7c-4ffc-82b0-74abfb926725",
   "metadata": {},
   "outputs": [],
   "source": [
    "list=df.columns[df.nunique()==1]\n",
    "#to check whether the columns AS UNIQUE VALUE OR NOT "
   ]
  },
  {
   "cell_type": "code",
   "execution_count": 53,
   "id": "70e43878-df6d-42f9-90bc-9a890380af3f",
   "metadata": {},
   "outputs": [
    {
     "data": {
      "text/plain": [
       "Index([], dtype='object')"
      ]
     },
     "execution_count": 53,
     "metadata": {},
     "output_type": "execute_result"
    }
   ],
   "source": [
    "list"
   ]
  },
  {
   "cell_type": "code",
   "execution_count": 54,
   "id": "31d4646e-a843-4984-82af-ffb076c74d54",
   "metadata": {},
   "outputs": [
    {
     "data": {
      "text/plain": [
       "<Axes: ylabel='Crude_oil_Price'>"
      ]
     },
     "execution_count": 54,
     "metadata": {},
     "output_type": "execute_result"
    },
    {
     "data": {
      "image/png": "[encoded data removed]",
      "text/plain": [
       "<Figure size 640x480 with 1 Axes>"
      ]
     },
     "metadata": {},
     "output_type": "display_data"
    }
   ],
   "source": [
    "sns.boxplot(df.Crude_oil_Price)"
   ]
  },
  {
   "cell_type": "code",
   "execution_count": 55,
   "id": "562bba2e-4edf-4061-b5cf-2e3a53d5b2ec",
   "metadata": {},
   "outputs": [],
   "source": [
    "data=df[df.Crude_oil_Price < 0]"
   ]
  },
  {
   "cell_type": "code",
   "execution_count": 56,
   "id": "f27628d8-b129-4eba-8f31-ae1865826c4b",
   "metadata": {},
   "outputs": [
    {
     "data": {
      "text/html": [
       "<div>\n",
       "<style scoped>\n",
       "    .dataframe tbody tr th:only-of-type {\n",
       "        vertical-align: middle;\n",
       "    }\n",
       "\n",
       "    .dataframe tbody tr th {\n",
       "        vertical-align: top;\n",
       "    }\n",
       "\n",
       "    .dataframe thead th {\n",
       "        text-align: right;\n",
       "    }\n",
       "</style>\n",
       "<table border=\"1\" class=\"dataframe\">\n",
       "  <thead>\n",
       "    <tr style=\"text-align: right;\">\n",
       "      <th></th>\n",
       "      <th>INDEX</th>\n",
       "      <th>Date</th>\n",
       "      <th>Natural_Gas_Price</th>\n",
       "      <th>Natural_Gas_Vol.</th>\n",
       "      <th>Crude_oil_Price</th>\n",
       "      <th>Crude_oil_Vol.</th>\n",
       "      <th>Copper_Price</th>\n",
       "      <th>Copper_Vol.</th>\n",
       "      <th>Bitcoin_Price</th>\n",
       "      <th>Bitcoin_Vol.</th>\n",
       "      <th>...</th>\n",
       "      <th>Berkshire_Price</th>\n",
       "      <th>Berkshire_Vol.</th>\n",
       "      <th>Netflix_Price</th>\n",
       "      <th>Netflix_Vol.</th>\n",
       "      <th>Amazon_Price</th>\n",
       "      <th>Amazon_Vol.</th>\n",
       "      <th>Meta_Price</th>\n",
       "      <th>Meta_Vol.</th>\n",
       "      <th>Gold_Price</th>\n",
       "      <th>Gold_Vol.</th>\n",
       "    </tr>\n",
       "  </thead>\n",
       "  <tbody>\n",
       "    <tr>\n",
       "      <th>938</th>\n",
       "      <td>938</td>\n",
       "      <td>20-04-2020</td>\n",
       "      <td>1.924</td>\n",
       "      <td>229820.0</td>\n",
       "      <td>-37.63</td>\n",
       "      <td>247950.0</td>\n",
       "      <td>2.328</td>\n",
       "      <td>1260.0</td>\n",
       "      <td>6,833.50</td>\n",
       "      <td>1260000</td>\n",
       "      <td>...</td>\n",
       "      <td>2,82,800</td>\n",
       "      <td>720</td>\n",
       "      <td>437.49</td>\n",
       "      <td>12660000</td>\n",
       "      <td>119.68</td>\n",
       "      <td>115410000</td>\n",
       "      <td>178.24</td>\n",
       "      <td>16110000</td>\n",
       "      <td>1,711.20</td>\n",
       "      <td>186910.0</td>\n",
       "    </tr>\n",
       "  </tbody>\n",
       "</table>\n",
       "<p>1 rows × 39 columns</p>\n",
       "</div>"
      ],
      "text/plain": [
       "     INDEX        Date  Natural_Gas_Price  Natural_Gas_Vol.  Crude_oil_Price  \\\n",
       "938    938  20-04-2020              1.924          229820.0           -37.63   \n",
       "\n",
       "     Crude_oil_Vol.  Copper_Price  Copper_Vol. Bitcoin_Price  Bitcoin_Vol.  \\\n",
       "938        247950.0         2.328       1260.0      6,833.50       1260000   \n",
       "\n",
       "     ... Berkshire_Price  Berkshire_Vol. Netflix_Price  Netflix_Vol.  \\\n",
       "938  ...        2,82,800             720        437.49      12660000   \n",
       "\n",
       "    Amazon_Price Amazon_Vol.  Meta_Price  Meta_Vol.  Gold_Price  Gold_Vol.  \n",
       "938       119.68   115410000      178.24   16110000    1,711.20   186910.0  \n",
       "\n",
       "[1 rows x 39 columns]"
      ]
     },
     "execution_count": 56,
     "metadata": {},
     "output_type": "execute_result"
    }
   ],
   "source": [
    "data"
   ]
  },
  {
   "cell_type": "code",
   "execution_count": 57,
   "id": "28e419ec-bb53-438a-9ebf-2591df4a3c46",
   "metadata": {},
   "outputs": [],
   "source": [
    "df=df[df.Crude_oil_Price>=0]"
   ]
  },
  {
   "cell_type": "code",
   "execution_count": 58,
   "id": "fd3d9391-4941-4ef0-ab4c-4ddf2cb0be10",
   "metadata": {},
   "outputs": [
    {
     "data": {
      "text/plain": [
       "(1242, 39)"
      ]
     },
     "execution_count": 58,
     "metadata": {},
     "output_type": "execute_result"
    }
   ],
   "source": [
    "df.shape"
   ]
  },
  {
   "cell_type": "code",
   "execution_count": 59,
   "id": "fed71554-8164-49a9-9562-6dc5e487b552",
   "metadata": {},
   "outputs": [
    {
     "data": {
      "text/plain": [
       "<Axes: ylabel='Crude_oil_Price'>"
      ]
     },
     "execution_count": 59,
     "metadata": {},
     "output_type": "execute_result"
    },
    {
     "data": {
      "image/png": "[encoded data removed]",
      "text/plain": [
       "<Figure size 640x480 with 1 Axes>"
      ]
     },
     "metadata": {},
     "output_type": "display_data"
    }
   ],
   "source": [
    "sns.boxplot(df.Crude_oil_Price)\n"
   ]
  },
  {
   "cell_type": "code",
   "execution_count": 60,
   "id": "3b0eaaad-c4aa-4cdd-963a-c307ad2af8ca",
   "metadata": {},
   "outputs": [
    {
     "data": {
      "text/plain": [
       "Index(['INDEX', 'Date', 'Natural_Gas_Price', 'Natural_Gas_Vol.',\n",
       "       'Crude_oil_Price', 'Crude_oil_Vol.', 'Copper_Price', 'Copper_Vol.',\n",
       "       'Bitcoin_Price', 'Bitcoin_Vol.', 'Platinum_Price', 'Platinum_Vol.',\n",
       "       'Ethereum_Price', 'Ethereum_Vol.', 'S&P_500_Price', 'Nasdaq_100_Price',\n",
       "       'Nasdaq_100_Vol.', 'Apple_Price', 'Apple_Vol.', 'Tesla_Price',\n",
       "       'Tesla_Vol.', 'Microsoft_Price', 'Microsoft_Vol.', 'Silver_Price',\n",
       "       'Silver_Vol.', 'Google_Price', 'Google_Vol.', 'Nvidia_Price',\n",
       "       'Nvidia_Vol.', 'Berkshire_Price', 'Berkshire_Vol.', 'Netflix_Price',\n",
       "       'Netflix_Vol.', 'Amazon_Price', 'Amazon_Vol.', 'Meta_Price',\n",
       "       'Meta_Vol.', 'Gold_Price', 'Gold_Vol.'],\n",
       "      dtype='object')"
      ]
     },
     "execution_count": 60,
     "metadata": {},
     "output_type": "execute_result"
    }
   ],
   "source": [
    "df.columns\n"
   ]
  },
  {
   "cell_type": "code",
   "execution_count": 61,
   "id": "9d6c4f95-f88c-4fb6-a052-30c6445817ea",
   "metadata": {},
   "outputs": [
    {
     "data": {
      "text/plain": [
       "<Axes: ylabel='Crude_oil_Price'>"
      ]
     },
     "execution_count": 61,
     "metadata": {},
     "output_type": "execute_result"
    },
    {
     "data": {
      "image/png": "[encoded data removed]",
      "text/plain": [
       "<Figure size 640x480 with 1 Axes>"
      ]
     },
     "metadata": {},
     "output_type": "display_data"
    }
   ],
   "source": [
    "sns.boxplot(df.Crude_oil_Price)\n"
   ]
  },
  {
   "cell_type": "code",
   "execution_count": 62,
   "id": "391dab42-ca4f-4870-8c91-cec379774f5a",
   "metadata": {},
   "outputs": [],
   "source": [
    "df=df[df.Natural_Gas_Price <= 8]"
   ]
  },
  {
   "cell_type": "code",
   "execution_count": 63,
   "id": "d8e8d95a-704e-41b4-ac62-7ce40c523b37",
   "metadata": {},
   "outputs": [
    {
     "data": {
      "text/plain": [
       "(1189, 39)"
      ]
     },
     "execution_count": 63,
     "metadata": {},
     "output_type": "execute_result"
    }
   ],
   "source": [
    "df.shape"
   ]
  },
  {
   "cell_type": "code",
   "execution_count": 64,
   "id": "bf3078a4-281e-4c87-9af3-5537aab9dfb1",
   "metadata": {},
   "outputs": [
    {
     "data": {
      "text/plain": [
       "<Axes: ylabel='Natural_Gas_Price'>"
      ]
     },
     "execution_count": 64,
     "metadata": {},
     "output_type": "execute_result"
    },
    {
     "data": {
      "image/png": "[encoded data removed]",
      "text/plain": [
       "<Figure size 640x480 with 1 Axes>"
      ]
     },
     "metadata": {},
     "output_type": "display_data"
    }
   ],
   "source": [
    "sns.boxplot(df.Natural_Gas_Price)\n",
    "\n"
   ]
  },
  {
   "cell_type": "code",
   "execution_count": 65,
   "id": "b534c01f-793b-489f-a41d-c0c1e81e8e51",
   "metadata": {},
   "outputs": [
    {
     "data": {
      "text/plain": [
       "Index(['INDEX', 'Date', 'Natural_Gas_Price', 'Natural_Gas_Vol.',\n",
       "       'Crude_oil_Price', 'Crude_oil_Vol.', 'Copper_Price', 'Copper_Vol.',\n",
       "       'Bitcoin_Price', 'Bitcoin_Vol.', 'Platinum_Price', 'Platinum_Vol.',\n",
       "       'Ethereum_Price', 'Ethereum_Vol.', 'S&P_500_Price', 'Nasdaq_100_Price',\n",
       "       'Nasdaq_100_Vol.', 'Apple_Price', 'Apple_Vol.', 'Tesla_Price',\n",
       "       'Tesla_Vol.', 'Microsoft_Price', 'Microsoft_Vol.', 'Silver_Price',\n",
       "       'Silver_Vol.', 'Google_Price', 'Google_Vol.', 'Nvidia_Price',\n",
       "       'Nvidia_Vol.', 'Berkshire_Price', 'Berkshire_Vol.', 'Netflix_Price',\n",
       "       'Netflix_Vol.', 'Amazon_Price', 'Amazon_Vol.', 'Meta_Price',\n",
       "       'Meta_Vol.', 'Gold_Price', 'Gold_Vol.'],\n",
       "      dtype='object')"
      ]
     },
     "execution_count": 65,
     "metadata": {},
     "output_type": "execute_result"
    }
   ],
   "source": [
    "df.columns"
   ]
  },
  {
   "cell_type": "code",
   "execution_count": 66,
   "id": "cf0e052f-6fac-4be1-b207-8b7b57f62900",
   "metadata": {},
   "outputs": [],
   "source": [
    "#creating a copy of a dataframe into  a temporary variable \n",
    "data=df[[\"INDEX\",\"Date\",\"Natural_Gas_Price\",\"Crude_oil_Price\"]].copy()"
   ]
  },
  {
   "cell_type": "code",
   "execution_count": 67,
   "id": "3cd31a64-9880-4476-8061-e7496af636eb",
   "metadata": {},
   "outputs": [
    {
     "data": {
      "text/plain": [
       "<bound method NDFrame.head of       INDEX        Date  Natural_Gas_Price  Crude_oil_Price\n",
       "0         0  02-02-2024              2.079            72.28\n",
       "1         1  01-02-2024              2.050            73.82\n",
       "2         2  31-01-2024              2.100            75.85\n",
       "3         3  30-01-2024              2.077            77.82\n",
       "4         4  29-01-2024              2.490            76.78\n",
       "...     ...         ...                ...              ...\n",
       "1238   1238  08-02-2019              2.583            52.72\n",
       "1239   1239  07-02-2019              2.551            52.64\n",
       "1240   1240  06-02-2019              2.662            54.01\n",
       "1241   1241  05-02-2019              2.662            53.66\n",
       "1242   1242  04-02-2019              2.660            54.56\n",
       "\n",
       "[1189 rows x 4 columns]>"
      ]
     },
     "execution_count": 67,
     "metadata": {},
     "output_type": "execute_result"
    }
   ],
   "source": [
    "data.head"
   ]
  },
  {
   "cell_type": "code",
   "execution_count": 68,
   "id": "5c01ef2d-8db8-4fe5-beca-ed2762167190",
   "metadata": {},
   "outputs": [],
   "source": [
    "#extarting feature of year from  date\n",
    "data['year'] = pd.DatetimeIndex(data['Date']).year"
   ]
  },
  {
   "cell_type": "code",
   "execution_count": 69,
   "id": "fa934eac-158f-49e1-bb01-e600fa1a79c7",
   "metadata": {},
   "outputs": [
    {
     "data": {
      "text/plain": [
       "array([2024, 2023, 2022, 2021, 2020, 2019], dtype=int64)"
      ]
     },
     "execution_count": 69,
     "metadata": {},
     "output_type": "execute_result"
    }
   ],
   "source": [
    "data['year'].unique()"
   ]
  },
  {
   "cell_type": "code",
   "execution_count": 70,
   "id": "e2ae934d-1eed-46ae-9044-98724b743430",
   "metadata": {},
   "outputs": [
    {
     "data": {
      "text/plain": [
       "<Axes: xlabel='year', ylabel='count'>"
      ]
     },
     "execution_count": 70,
     "metadata": {},
     "output_type": "execute_result"
    },
    {
     "data": {
      "image/png": "[encoded data removed]",
      "text/plain": [
       "<Figure size 640x480 with 1 Axes>"
      ]
     },
     "metadata": {},
     "output_type": "display_data"
    }
   ],
   "source": [
    "\n",
    "sns.set_palette('colorblind')\n",
    "sns.countplot(x = 'year',order=[ 2024,2023,2022,2021,2020,2019],hue ='Natural_Gas_Price',data=data)"
   ]
  },
  {
   "cell_type": "code",
   "execution_count": 71,
   "id": "fac496a1-5575-4f68-9fe8-71adf5d68d93",
   "metadata": {},
   "outputs": [],
   "source": [
    "#grouping the data in year category and extracting the max price of natural gas\n",
    "df_grp = data.groupby(['year'])['Natural_Gas_Price'].max().reset_index()"
   ]
  },
  {
   "cell_type": "code",
   "execution_count": 72,
   "id": "ddb2a384-792d-4bf2-bc04-8bb69815b2a0",
   "metadata": {},
   "outputs": [],
   "source": [
    "#grouping the data in year category and extracting the max price of Crude_oil_Price \n",
    "df_grp['Crude_oil_Price']=data.groupby(['year'])['Crude_oil_Price'].max().reset_index()['Crude_oil_Price']"
   ]
  },
  {
   "cell_type": "code",
   "execution_count": 73,
   "id": "4fcf6352-5c3a-4675-9005-f25695f265fc",
   "metadata": {},
   "outputs": [
    {
     "data": {
      "text/html": [
       "<div>\n",
       "<style scoped>\n",
       "    .dataframe tbody tr th:only-of-type {\n",
       "        vertical-align: middle;\n",
       "    }\n",
       "\n",
       "    .dataframe tbody tr th {\n",
       "        vertical-align: top;\n",
       "    }\n",
       "\n",
       "    .dataframe thead th {\n",
       "        text-align: right;\n",
       "    }\n",
       "</style>\n",
       "<table border=\"1\" class=\"dataframe\">\n",
       "  <thead>\n",
       "    <tr style=\"text-align: right;\">\n",
       "      <th></th>\n",
       "      <th>year</th>\n",
       "      <th>Natural_Gas_Price</th>\n",
       "      <th>Crude_oil_Price</th>\n",
       "    </tr>\n",
       "  </thead>\n",
       "  <tbody>\n",
       "    <tr>\n",
       "      <th>0</th>\n",
       "      <td>2019</td>\n",
       "      <td>2.884</td>\n",
       "      <td>66.30</td>\n",
       "    </tr>\n",
       "    <tr>\n",
       "      <th>1</th>\n",
       "      <td>2020</td>\n",
       "      <td>3.354</td>\n",
       "      <td>63.27</td>\n",
       "    </tr>\n",
       "    <tr>\n",
       "      <th>2</th>\n",
       "      <td>2021</td>\n",
       "      <td>6.312</td>\n",
       "      <td>84.65</td>\n",
       "    </tr>\n",
       "    <tr>\n",
       "      <th>3</th>\n",
       "      <td>2022</td>\n",
       "      <td>7.996</td>\n",
       "      <td>123.70</td>\n",
       "    </tr>\n",
       "    <tr>\n",
       "      <th>4</th>\n",
       "      <td>2023</td>\n",
       "      <td>4.172</td>\n",
       "      <td>93.68</td>\n",
       "    </tr>\n",
       "    <tr>\n",
       "      <th>5</th>\n",
       "      <td>2024</td>\n",
       "      <td>3.313</td>\n",
       "      <td>78.01</td>\n",
       "    </tr>\n",
       "  </tbody>\n",
       "</table>\n",
       "</div>"
      ],
      "text/plain": [
       "   year  Natural_Gas_Price  Crude_oil_Price\n",
       "0  2019              2.884            66.30\n",
       "1  2020              3.354            63.27\n",
       "2  2021              6.312            84.65\n",
       "3  2022              7.996           123.70\n",
       "4  2023              4.172            93.68\n",
       "5  2024              3.313            78.01"
      ]
     },
     "execution_count": 73,
     "metadata": {},
     "output_type": "execute_result"
    }
   ],
   "source": [
    "df_grp"
   ]
  },
  {
   "cell_type": "code",
   "execution_count": 74,
   "id": "4b90a916-7424-4381-8e8a-59ea3717b9de",
   "metadata": {},
   "outputs": [
    {
     "data": {
      "text/plain": [
       "<Axes: xlabel='year', ylabel='Natural_Gas_Price'>"
      ]
     },
     "execution_count": 74,
     "metadata": {},
     "output_type": "execute_result"
    },
    {
     "data": {
      "image/png": "[encoded data removed]",
      "text/plain": [
       "<Figure size 640x480 with 1 Axes>"
      ]
     },
     "metadata": {},
     "output_type": "display_data"
    }
   ],
   "source": [
    "#extracting the price of natural gas in particular year colour wise\n",
    "sns.barplot(x=\"year\",y=\"Natural_Gas_Price\",hue='Crude_oil_Price',data=df_grp)"
   ]
  },
  {
   "cell_type": "code",
   "execution_count": null,
   "id": "fe0db1e2-7e69-40b3-939f-05c399dff913",
   "metadata": {},
   "outputs": [],
   "source": []
  },
  {
   "cell_type": "code",
   "execution_count": null,
   "id": "6def800b-4808-481c-a7f5-66b009597bf7",
   "metadata": {},
   "outputs": [],
   "source": []
  }
 ],
 "metadata": {
  "kernelspec": {
   "display_name": "Python 3 (ipykernel)",
   "language": "python",
   "name": "python3"
  },
  "language_info": {
   "codemirror_mode": {
    "name": "ipython",
    "version": 3
   },
   "file_extension": ".py",
   "mimetype": "text/x-python",
   "name": "python",
   "nbconvert_exporter": "python",
   "pygments_lexer": "ipython3",
   "version": "3.10.2"
  }
 },
 "nbformat": 4,
 "nbformat_minor": 5
}
